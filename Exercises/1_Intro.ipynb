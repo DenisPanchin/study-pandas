{
  "nbformat": 4,
  "nbformat_minor": 0,
  "metadata": {
    "colab": {
      "provenance": [],
      "authorship_tag": "ABX9TyMp1KHp42JTY1J7vQ6vb8Qy",
      "include_colab_link": true
    },
    "kernelspec": {
      "name": "python3",
      "display_name": "Python 3"
    },
    "language_info": {
      "name": "python"
    }
  },
  "cells": [
    {
      "cell_type": "markdown",
      "metadata": {
        "id": "view-in-github",
        "colab_type": "text"
      },
      "source": [
        "<a href=\"https://colab.research.google.com/github/DenisPanchin/study-pandas/blob/main/Exercises/1_Intro.ipynb\" target=\"_parent\"><img src=\"https://colab.research.google.com/assets/colab-badge.svg\" alt=\"Open In Colab\"/></a>"
      ]
    },
    {
      "cell_type": "markdown",
      "source": [
        "# Упражнения Pandas"
      ],
      "metadata": {
        "id": "9aApUMT0Od2x"
      }
    },
    {
      "cell_type": "markdown",
      "source": [
        "**Уровни сложности**\n",
        "\n",
        "\\* Элементрано\n",
        "\n",
        "\\** Просто\n",
        "\n",
        "\\*** Базовая сложность\n",
        "\n",
        "\\**** Сложно\n",
        "\n",
        "\\***** Профессионал\n"
      ],
      "metadata": {
        "id": "ucs93uIYOjYz"
      }
    },
    {
      "cell_type": "markdown",
      "source": [
        "**1. ⋆ Импортировать библиотеку Pandas**"
      ],
      "metadata": {
        "id": "NnM7timZcbS_"
      }
    },
    {
      "cell_type": "code",
      "execution_count": null,
      "metadata": {
        "id": "zF-VmMHHM022"
      },
      "outputs": [],
      "source": [
        "# Решение:\n",
        "import"
      ]
    },
    {
      "cell_type": "markdown",
      "source": [
        "**2. ⋆⋆ Импортировать библиотеку Pandas с псевдонимом `pd`**"
      ],
      "metadata": {
        "id": "WZ9pmbZpc9oN"
      }
    },
    {
      "cell_type": "code",
      "source": [
        "# Решение:\n"
      ],
      "metadata": {
        "id": "ZXb34r4jdF4T"
      },
      "execution_count": null,
      "outputs": []
    },
    {
      "cell_type": "markdown",
      "source": [
        "**3. ⋆ Посмотреть версию библиотеки Pandas**"
      ],
      "metadata": {
        "id": "DbHSBSTndSrX"
      }
    },
    {
      "cell_type": "code",
      "source": [
        "# Решение:\n"
      ],
      "metadata": {
        "id": "csNJ22zVd8ta"
      },
      "execution_count": null,
      "outputs": []
    }
  ]
}